{
 "cells": [
  {
   "cell_type": "markdown",
   "metadata": {},
   "source": [
    "## BASE MODEL TO DETECT PARASITES and NON_PARASITES\n",
    "\n",
    "The data set is downloaded from [kaggle](https://www.kaggle.com/iarunava/cell-images-for-detecting-malaria).\n",
    "The target dataset is heavily imbalanced, hence we are trying to build a base model which has already learnt the basic features from a similar kind of dataset and can be used in the later with limited data. We are planning to employ Tarnsfer Learning here."
   ]
  },
  {
   "cell_type": "code",
   "execution_count": 1,
   "metadata": {},
   "outputs": [
    {
     "data": {
      "text/plain": [
       "0"
      ]
     },
     "execution_count": 1,
     "metadata": {},
     "output_type": "execute_result"
    }
   ],
   "source": [
    "# Import the required modules\n",
    "import numpy as np\n",
    "import os\n",
    "import torch\n",
    "import torch.nn as nn\n",
    "import torch.optim as optim\n",
    "import time\n",
    "import torchvision\n",
    "import copy\n",
    "from torch.utils.data import random_split\n",
    "from torch.optim import lr_scheduler\n",
    "from torch.autograd import Variable\n",
    "from torchvision import datasets, models, transforms\n",
    "# from torch.utils.data.sampler import SubsetRandomSampler\n",
    "\n",
    "torch.cuda.current_device() # Work around for the Bug https://github.com/pytorch/pytorch/issues/20635"
   ]
  },
  {
   "cell_type": "code",
   "execution_count": 2,
   "metadata": {},
   "outputs": [],
   "source": [
    "data_dir = r\"E:\\Class_Notes_Sem2\\ADM\\Project\\malaria-bounding-boxes\\malaria\\Processed_Images\""
   ]
  },
  {
   "cell_type": "code",
   "execution_count": 3,
   "metadata": {},
   "outputs": [],
   "source": [
    "transformormations = {\n",
    "    'train': transforms.Compose([\n",
    "        transforms.RandomHorizontalFlip(),\n",
    "        transforms.RandomRotation(50),\n",
    "        transforms.ColorJitter(brightness=0.5, contrast=0.5, saturation=0.5, hue=0.5),\n",
    "        transforms.RandomResizedCrop(224),\n",
    "        transforms.ToTensor(),\n",
    "        transforms.Normalize([0.485, 0.456, 0.406], [0.229, 0.224, 0.225])\n",
    "    ]),\n",
    "    'test': transforms.Compose([\n",
    "        transforms.Resize(240),\n",
    "        transforms.CenterCrop(224),\n",
    "        transforms.ToTensor(),\n",
    "        transforms.Normalize([0.485, 0.456, 0.406], [0.229, 0.224, 0.225])\n",
    "    ]),\n",
    "    'valid': transforms.Compose([\n",
    "        transforms.Resize(240),\n",
    "        transforms.CenterCrop(224),\n",
    "        transforms.ToTensor(),\n",
    "        transforms.Normalize([0.485, 0.456, 0.406], [0.229, 0.224, 0.225])\n",
    "    ])\n",
    "}\n",
    "\n",
    "dataset = { x : datasets.ImageFolder(os.path.join(data_dir, x), transformormations[x])\n",
    "               for x in ['train', 'test']\n",
    "          }\n",
    "\n",
    "dataset_loaders = {x : torch.utils.data.DataLoader(dataset[x], batch_size=16,\n",
    "                        shuffle=True, num_workers=4) for x in ['train', 'test']\n",
    "                  }"
   ]
  },
  {
   "cell_type": "code",
   "execution_count": 4,
   "metadata": {},
   "outputs": [
    {
     "name": "stdout",
     "output_type": "stream",
     "text": [
      "cuda\n"
     ]
    }
   ],
   "source": [
    "device = 'cuda' if torch.cuda.is_available() else 'cpu'\n",
    "print(device)"
   ]
  },
  {
   "cell_type": "code",
   "execution_count": 17,
   "metadata": {},
   "outputs": [],
   "source": [
    "model = torch.load(r'E:\\Class_Notes_Sem2\\ADM\\Project\\first_model.pth')\n",
    "for param in model.parameters():\n",
    "    param.requires_grad = False\n",
    "num_ftrs = model.classifier[0].in_features\n",
    "model.classifier = nn.Sequential(\n",
    "    nn.Linear(num_ftrs, 1024),  \n",
    "    nn.ReLU(), \n",
    "    nn.Dropout(p=0.2),\n",
    "    nn.Linear(1024, 6)\n",
    ")\n",
    "\n"
   ]
  },
  {
   "cell_type": "code",
   "execution_count": 19,
   "metadata": {},
   "outputs": [],
   "source": [
    "# Loading the device to CUDA\n",
    "model.to(device)\n",
    "\n",
    "# Loss Function definition\n",
    "criterion = nn.CrossEntropyLoss()\n",
    "\n",
    "optimizer_classifier = optim.Adam(model.classifier.parameters(), lr=0.003)\n",
    "\n",
    "# Decay LR by a factor of 0.1 every 4 epochs\n",
    "classifier_lr_scheduler = lr_scheduler.StepLR(optimizer_classifier, step_size=4, gamma=0.1)"
   ]
  },
  {
   "cell_type": "code",
   "execution_count": 20,
   "metadata": {},
   "outputs": [],
   "source": [
    "def train_model(model, criterion, optimizer_cl, scheduler2, num_epochs=25):\n",
    "    since = time.time()\n",
    "\n",
    "    best_model_wts = copy.deepcopy(model.state_dict())\n",
    "    best_acc = 0.0\n",
    "\n",
    "    for epoch in range(num_epochs):\n",
    "        print('Epoch {}/{}'.format(epoch, num_epochs - 1))\n",
    "        print('-' * 10)\n",
    "\n",
    "        # Each epoch has a training and validation phase\n",
    "        for phase in ['train', 'test']:\n",
    "            if phase == 'train':\n",
    "#                 scheduler1.step()\n",
    "                scheduler2.step()\n",
    "                model.train(True)  # Set model to training mode\n",
    "            else:\n",
    "                model.train(False)  # Set model to evaluate mode\n",
    "            running_loss = 0.0\n",
    "            running_corrects = 0\n",
    "\n",
    "            # Iterate over data.\n",
    "            for data in dataset_loaders[phase]:\n",
    "                # get the inputs\n",
    "                inputs, labels = data\n",
    "                inputs, labels = inputs.to(device), labels.to(device)\n",
    "\n",
    "                # zero the parameter gradients\n",
    "#                 optimizer_fe.zero_grad()\n",
    "                optimizer_cl.zero_grad()\n",
    "\n",
    "                # forward\n",
    "                outputs = model(inputs)\n",
    "                _, preds = torch.max(outputs.data, 1)\n",
    "                loss = criterion(outputs, labels)\n",
    "\n",
    "                # backward + optimize only if in training phase\n",
    "                if phase == 'train':\n",
    "                    loss.backward()\n",
    "#                     optimizer_fe.step()\n",
    "                    optimizer_cl.step()\n",
    "\n",
    "                # statistics\n",
    "                running_loss += loss.item() * inputs.size(0)\n",
    "                running_corrects += torch.sum(preds == labels.data)\n",
    "            epoch_loss = running_loss / len(dataset[phase])\n",
    "            epoch_acc = running_corrects.item() / len(dataset[phase])\n",
    "\n",
    "            print('{} Loss: {:.4f} Acc: {:.4f}'.format(\n",
    "                phase, epoch_loss, epoch_acc))\n",
    "\n",
    "            # deep copy the model\n",
    "            if phase == 'test' and epoch_acc > best_acc:\n",
    "                best_acc = epoch_acc\n",
    "                best_model_wts = copy.deepcopy(model.state_dict())\n",
    "\n",
    "        print()\n",
    "\n",
    "    time_elapsed = time.time() - since\n",
    "    print('Training complete in {:.0f}m {:.0f}s'.format(\n",
    "        time_elapsed // 60, time_elapsed % 60))\n",
    "    print('Best val Acc: {:4f}'.format(best_acc))\n",
    "\n",
    "    # load best model weights\n",
    "    model.load_state_dict(best_model_wts)\n",
    "    return model"
   ]
  },
  {
   "cell_type": "code",
   "execution_count": 21,
   "metadata": {},
   "outputs": [],
   "source": [
    "def evaluate_model(model, datalaoder, criterion):\n",
    "    model.train(False)\n",
    "    running_loss, running_corrects = 0, 0\n",
    "    for data in datalaoder:\n",
    "        inputs, labels = data\n",
    "        inputs, labels = inputs.to(device), labels.to(device)\n",
    "        outputs = model(inputs)\n",
    "        _, preds = torch.max(outputs.data, 1)\n",
    "        loss = criterion(outputs, labels)\n",
    "        running_loss += loss.item() * inputs.size(0)\n",
    "        running_corrects += torch.sum(preds == labels.data)\n",
    "    test_loss = running_loss / len(dataset['test'])\n",
    "    test_acc = running_corrects.item() / len(dataset['test'])\n",
    "    print('Test Loss: {:.4f} Acc: {:.4f}'.format(test_loss, test_acc))\n",
    "    return test_loss, test_acc"
   ]
  },
  {
   "cell_type": "code",
   "execution_count": 22,
   "metadata": {
    "scrolled": true
   },
   "outputs": [
    {
     "name": "stdout",
     "output_type": "stream",
     "text": [
      "Epoch 0/9\n",
      "----------\n",
      "train Loss: 1.9102 Acc: 0.4025\n",
      "test Loss: 1.3791 Acc: 0.3739\n",
      "\n",
      "Epoch 1/9\n",
      "----------\n",
      "train Loss: 1.3778 Acc: 0.4496\n",
      "test Loss: 1.3131 Acc: 0.4217\n",
      "\n",
      "Epoch 2/9\n",
      "----------\n",
      "train Loss: 1.3861 Acc: 0.4597\n",
      "test Loss: 1.1387 Acc: 0.5348\n",
      "\n",
      "Epoch 3/9\n",
      "----------\n",
      "train Loss: 1.2527 Acc: 0.5102\n",
      "test Loss: 1.1305 Acc: 0.5783\n",
      "\n",
      "Epoch 4/9\n",
      "----------\n",
      "train Loss: 1.2475 Acc: 0.5078\n",
      "test Loss: 1.1320 Acc: 0.5783\n",
      "\n",
      "Epoch 5/9\n",
      "----------\n",
      "train Loss: 1.2099 Acc: 0.5184\n",
      "test Loss: 1.1352 Acc: 0.5565\n",
      "\n",
      "Epoch 6/9\n",
      "----------\n",
      "train Loss: 1.1936 Acc: 0.5359\n",
      "test Loss: 1.1006 Acc: 0.5783\n",
      "\n",
      "Epoch 7/9\n",
      "----------\n",
      "train Loss: 1.1795 Acc: 0.5383\n",
      "test Loss: 1.0995 Acc: 0.5826\n",
      "\n",
      "Epoch 8/9\n",
      "----------\n",
      "train Loss: 1.1780 Acc: 0.5461\n",
      "test Loss: 1.1025 Acc: 0.5739\n",
      "\n",
      "Epoch 9/9\n",
      "----------\n",
      "train Loss: 1.1667 Acc: 0.5466\n",
      "test Loss: 1.1074 Acc: 0.5826\n",
      "\n",
      "Training complete in 6m 39s\n",
      "Best val Acc: 0.582609\n"
     ]
    }
   ],
   "source": [
    "model_ft = train_model(model, criterion, optimizer_classifier, classifier_lr_scheduler,\n",
    "                       num_epochs=10)\n",
    "# Free up Cached memory\n",
    "# torch.cuda.empty_cache() "
   ]
  },
  {
   "cell_type": "code",
   "execution_count": 14,
   "metadata": {},
   "outputs": [
    {
     "name": "stdout",
     "output_type": "stream",
     "text": [
      "Test Loss: 0.1994 Acc: 0.9279\n"
     ]
    },
    {
     "data": {
      "text/plain": [
       "(0.1993926444538231, 0.9279035433070866)"
      ]
     },
     "execution_count": 14,
     "metadata": {},
     "output_type": "execute_result"
    }
   ],
   "source": [
    "evaluate_model(model_ft, dataset_loaders['test'], criterion)"
   ]
  },
  {
   "cell_type": "code",
   "execution_count": 16,
   "metadata": {},
   "outputs": [],
   "source": [
    "# Free up Cached memory\n",
    "torch.cuda.empty_cache()"
   ]
  },
  {
   "cell_type": "code",
   "execution_count": null,
   "metadata": {},
   "outputs": [],
   "source": []
  }
 ],
 "metadata": {
  "kernelspec": {
   "display_name": "Python (gpu_pytorch)",
   "language": "python",
   "name": "gpu_pytorch"
  },
  "language_info": {
   "codemirror_mode": {
    "name": "ipython",
    "version": 3
   },
   "file_extension": ".py",
   "mimetype": "text/x-python",
   "name": "python",
   "nbconvert_exporter": "python",
   "pygments_lexer": "ipython3",
   "version": "3.6.9"
  }
 },
 "nbformat": 4,
 "nbformat_minor": 2
}
