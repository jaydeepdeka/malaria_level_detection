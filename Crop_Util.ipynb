{
 "cells": [
  {
   "cell_type": "code",
   "execution_count": 1,
   "metadata": {},
   "outputs": [],
   "source": [
    "import os\n",
    "import json\n",
    "import pandas as pd\n",
    "import cv2\n",
    "from pathlib import Path"
   ]
  },
  {
   "cell_type": "code",
   "execution_count": 2,
   "metadata": {},
   "outputs": [],
   "source": [
    "dataset_path = Path(r'E:\\Class_Notes_Sem2\\ADM\\Project\\malaria-bounding-boxes\\malaria')"
   ]
  },
  {
   "cell_type": "code",
   "execution_count": 3,
   "metadata": {},
   "outputs": [],
   "source": [
    "dataset_df = {}\n",
    "for p,f,files in os.walk(dataset_path):\n",
    "    for file in files:\n",
    "        if file.endswith('json'):\n",
    "                dataset_df[file.strip('.json')] = pd.read_json(os.path.join(p, file))"
   ]
  },
  {
   "cell_type": "code",
   "execution_count": 5,
   "metadata": {},
   "outputs": [],
   "source": [
    "object_df = {}\n",
    "for types in dataset_df.keys():\n",
    "    dataset_df[types]['path'] = dataset_df[types]['image'].map(lambda x: dataset_path / x['pathname'][1:])\n",
    "    dataset_df[types]['image_exists'] = dataset_df[types]['path'].map(lambda x: x.exists())\n",
    "    object_df[types] = pd.DataFrame([dict(image=c_row['path'], **c_item) for _, c_row in dataset_df[types].iterrows() for c_item in c_row['objects']])"
   ]
  },
  {
   "cell_type": "code",
   "execution_count": 6,
   "metadata": {},
   "outputs": [
    {
     "ename": "FileExistsError",
     "evalue": "[WinError 183] Cannot create a file when that file already exists: 'E:\\\\Class_Notes_Sem2\\\\ADM\\\\Project\\\\malaria-bounding-boxes\\\\malaria\\\\red blood cell'",
     "output_type": "error",
     "traceback": [
      "\u001b[1;31m---------------------------------------------------------------------------\u001b[0m",
      "\u001b[1;31mFileExistsError\u001b[0m                           Traceback (most recent call last)",
      "\u001b[1;32m<ipython-input-6-774b7edb1c58>\u001b[0m in \u001b[0;36m<module>\u001b[1;34m\u001b[0m\n\u001b[0;32m      1\u001b[0m \u001b[1;32mfor\u001b[0m \u001b[0mcategory\u001b[0m \u001b[1;32min\u001b[0m \u001b[1;33m(\u001b[0m\u001b[0mobject_df\u001b[0m\u001b[1;33m[\u001b[0m\u001b[1;34m'test'\u001b[0m\u001b[1;33m]\u001b[0m\u001b[1;33m[\u001b[0m\u001b[1;34m'category'\u001b[0m\u001b[1;33m]\u001b[0m\u001b[1;33m)\u001b[0m\u001b[1;33m.\u001b[0m\u001b[0munique\u001b[0m\u001b[1;33m(\u001b[0m\u001b[1;33m)\u001b[0m\u001b[1;33m:\u001b[0m\u001b[1;33m\u001b[0m\u001b[1;33m\u001b[0m\u001b[0m\n\u001b[1;32m----> 2\u001b[1;33m     \u001b[0mos\u001b[0m\u001b[1;33m.\u001b[0m\u001b[0mmkdir\u001b[0m\u001b[1;33m(\u001b[0m\u001b[0mdataset_path\u001b[0m \u001b[1;33m/\u001b[0m \u001b[0mcategory\u001b[0m\u001b[1;33m)\u001b[0m\u001b[1;33m\u001b[0m\u001b[1;33m\u001b[0m\u001b[0m\n\u001b[0m",
      "\u001b[1;31mFileExistsError\u001b[0m: [WinError 183] Cannot create a file when that file already exists: 'E:\\\\Class_Notes_Sem2\\\\ADM\\\\Project\\\\malaria-bounding-boxes\\\\malaria\\\\red blood cell'"
     ]
    }
   ],
   "source": [
    "for category in (object_df['test']['category']).unique():\n",
    "    os.mkdir(dataset_path / category)"
   ]
  },
  {
   "cell_type": "code",
   "execution_count": 7,
   "metadata": {},
   "outputs": [
    {
     "data": {
      "text/plain": [
       "5658    {'minimum': {'r': 835, 'c': 807}, 'maximum': {...\n",
       "Name: bounding_box, dtype: object"
      ]
     },
     "execution_count": 7,
     "metadata": {},
     "output_type": "execute_result"
    }
   ],
   "source": [
    "object_df['test'].sample(1)['bounding_box']"
   ]
  },
  {
   "cell_type": "code",
   "execution_count": 8,
   "metadata": {},
   "outputs": [],
   "source": [
    "test_image = dataset_df['test'].iloc[0]\n",
    "im = cv2.imread(str(test_image['path']))"
   ]
  },
  {
   "cell_type": "code",
   "execution_count": 10,
   "metadata": {},
   "outputs": [
    {
     "data": {
      "text/plain": [
       "[{'bounding_box': {'minimum': {'r': 576, 'c': 1744},\n",
       "   'maximum': {'r': 708, 'c': 1883}},\n",
       "  'category': 'red blood cell'},\n",
       " {'bounding_box': {'minimum': {'r': 863, 'c': 1249},\n",
       "   'maximum': {'r': 977, 'c': 1373}},\n",
       "  'category': 'red blood cell'}]"
      ]
     },
     "execution_count": 10,
     "metadata": {},
     "output_type": "execute_result"
    }
   ],
   "source": [
    "test_image['objects'][:2]"
   ]
  },
  {
   "cell_type": "code",
   "execution_count": 22,
   "metadata": {},
   "outputs": [],
   "source": [
    "for images in test_image['objects'][:2]:\n",
    "    min_val = images['bounding_box']['minimum']\n",
    "    max_val = images['bounding_box']['maximum']\n",
    "    crop_img = im[min_val['r']:max_val['r'], min_val['c']:max_val['c']]\n",
    "    cv2.imwrite(r\"E:\\Class_Notes_Sem2\\ADM\\Project\\malaria-bounding-boxes\\malaria\\ring\\test.png\", crop_img)\n",
    "    cv2.waitKey(2)"
   ]
  },
  {
   "cell_type": "code",
   "execution_count": null,
   "metadata": {},
   "outputs": [],
   "source": []
  }
 ],
 "metadata": {
  "kernelspec": {
   "display_name": "Python (gpu_pytorch)",
   "language": "python",
   "name": "gpu_pytorch"
  },
  "language_info": {
   "codemirror_mode": {
    "name": "ipython",
    "version": 3
   },
   "file_extension": ".py",
   "mimetype": "text/x-python",
   "name": "python",
   "nbconvert_exporter": "python",
   "pygments_lexer": "ipython3",
   "version": "3.6.9"
  }
 },
 "nbformat": 4,
 "nbformat_minor": 2
}
